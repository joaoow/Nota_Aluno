{
  "nbformat": 4,
  "nbformat_minor": 0,
  "metadata": {
    "colab": {
      "provenance": []
    },
    "kernelspec": {
      "name": "python3",
      "display_name": "Python 3"
    },
    "language_info": {
      "name": "python"
    }
  },
  "cells": [
    {
      "cell_type": "code",
      "source": [
        "n1 = float(input('Primeira nota do aluno: ' ))\n",
        "n2 = float(input('Segunda nota do aluno: '))\n",
        "media = (n1 + n2) / 2 #numero1 + numero2 dividido por 2\n",
        "print('A média entre {:.1f} e {:.1f} é igual a {:.1f}'.format(n1, n2, media))\n"
      ],
      "metadata": {
        "colab": {
          "base_uri": "https://localhost:8080/"
        },
        "id": "PsNJETnIPJRD",
        "outputId": "af6fba66-e589-468d-8fd1-67bbeb2ddc09"
      },
      "execution_count": 7,
      "outputs": [
        {
          "output_type": "stream",
          "name": "stdout",
          "text": [
            "Primeira nota do aluno: 5.5\n",
            "Segunda nota do aluno: 2\n",
            "A média entre 5.5 e 2.0 é igual a 3.8\n"
          ]
        }
      ]
    }
  ]
}